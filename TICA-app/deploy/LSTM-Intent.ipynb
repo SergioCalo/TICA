{
 "cells": [
  {
   "cell_type": "code",
   "execution_count": 1,
   "metadata": {},
   "outputs": [],
   "source": [
    "#deal with tensors\n",
    "import torch   \n",
    "\n",
    "#handling text data\n",
    "from torchtext.legacy import data\n",
    "\n",
    "import matplotlib.pyplot as plt\n"
   ]
  },
  {
   "cell_type": "code",
   "execution_count": 2,
   "metadata": {},
   "outputs": [],
   "source": [
    "#Reproducing same results\n",
    "SEED = 10\n",
    "\n",
    "#Torch\n",
    "torch.manual_seed(SEED)\n",
    "\n",
    "#Cuda algorithms\n",
    "torch.backends.cudnn.deterministic = True "
   ]
  },
  {
   "cell_type": "code",
   "execution_count": 3,
   "metadata": {},
   "outputs": [
    {
     "name": "stderr",
     "output_type": "stream",
     "text": [
      "/home/sergio/anaconda3/lib/python3.8/site-packages/torchtext/data/utils.py:123: UserWarning: Spacy model \"en\" could not be loaded, trying \"en_core_web_sm\" instead\n",
      "  warnings.warn(f'Spacy model \"{language}\" could not be loaded, trying \"{OLD_MODEL_SHORTCUTS[language]}\" instead')\n"
     ]
    }
   ],
   "source": [
    "TEXT = data.Field(tokenize='spacy',batch_first=True,include_lengths=True, lower=True)\n",
    "LABEL = data.LabelField(dtype = torch.float,batch_first=True)\n",
    "fields = [('label', LABEL), ('text',TEXT)]"
   ]
  },
  {
   "cell_type": "code",
   "execution_count": 4,
   "metadata": {},
   "outputs": [
    {
     "name": "stdout",
     "output_type": "stream",
     "text": [
      "{'label': 'ADD_INFO', 'text': ['i', 'love', 'museums']}\n",
      "{'label': 'ADD_INFO', 'text': ['i', 'would', 'like', 'to', 'be', 'outside']}\n",
      "{'label': 'ADD_INFO', 'text': ['i', 'love', 'to', 'be', 'outdoors']}\n",
      "{'label': 'ADD_INFO', 'text': ['we', 'are', 'a', 'group']}\n",
      "{'label': 'ADD_INFO', 'text': ['we', 'want', 'something', 'close']}\n",
      "{'label': 'ADD_INFO', 'text': ['what', 'can', 'we', 'do', 'on', 'the', 'weekend']}\n",
      "{'label': 'ADD_INFO', 'text': ['we', 'are', 'visiting', 'for', 'the', 'weekend']}\n",
      "{'label': 'ADD_INFO', 'text': ['my', 'kids', 'are', 'hungry']}\n",
      "{'label': 'ADD_INFO', 'text': ['we', 'are', 'tired']}\n",
      "{'label': 'ADD_INFO', 'text': ['i', 'like', 'art']}\n",
      "{'label': 'ADD_INFO', 'text': ['i', 'love', 'the', 'beach']}\n",
      "{'label': 'ADD_INFO', 'text': ['we', 'want', 'to', 'try', 'local', 'cuisine']}\n",
      "{'label': 'ADD_INFO', 'text': ['we', 'want', 'to', 'listen', 'to', 'music']}\n",
      "{'label': 'ADD_INFO', 'text': ['is', 'there', 'live', 'music']}\n",
      "{'label': 'ADD_INFO', 'text': ['i', 'want', 'to', 'try', 'spanish', 'wine']}\n",
      "{'label': 'ADD_INFO', 'text': ['i', 'like', 'local', 'wine']}\n",
      "{'label': 'ADD_INFO', 'text': ['i', 'like', 'dancing']}\n",
      "{'label': 'ADD_INFO', 'text': ['my', 'husbund', 'will', 'join', 'later']}\n",
      "{'label': 'ADD_INFO', 'text': ['my', 'girlfirend', 'will', 'come', 'later']}\n",
      "{'label': 'ADD_INFO', 'text': ['i', 'love', 'good', 'food']}\n",
      "{'label': 'ADD_INFO', 'text': ['i', 'want', 'to', 'see', 'sagrada', 'familia']}\n",
      "{'label': 'ADD_INFO', 'text': ['i', 'just', 'want', 'to', 'ask', 'for', 'directions']}\n",
      "{'label': 'ADD_INFO', 'text': ['we', 'want', 'to', 'see', 'flamenco']}\n",
      "{'label': 'ADD_INFO', 'text': ['i', 'like', 'vegetarian', 'food', 'place']}\n",
      "{'label': 'ADD_INFO', 'text': ['i', 'have', 'young', 'children']}\n",
      "{'label': 'ADD_INFO', 'text': ['i', 'come', 'with', 'my', 'husband', 'and', 'three', 'children']}\n",
      "{'label': 'ADD_INFO', 'text': ['i', 'come', 'with', 'my', 'wife']}\n",
      "{'label': 'ADD_INFO', 'text': ['i', 'have', 'two', 'kids']}\n",
      "{'label': 'ADD_INFO', 'text': ['my', 'son', 'is', 'eight', 'and', 'my', 'daughter', 'is', 'twelve']}\n",
      "{'label': 'ADD_INFO', 'text': ['my', 'son', 'is', 'eleven', 'and', 'my', 'daughter', 'is', 'five']}\n",
      "{'label': 'ADD_INFO', 'text': ['that', \"'s\", 'our', 'last', 'day', 'in', 'barcelona']}\n",
      "{'label': 'ADD_INFO', 'text': ['we', 'came', 'here', 'on', 'monday']}\n",
      "{'label': 'ADD_INFO', 'text': ['we', 'just', 'arrived', 'today']}\n",
      "{'label': 'ADD_INFO', 'text': ['we', \"'ll\", 'be', 'a', 'week', 'around', 'here']}\n",
      "{'label': 'ADD_INFO', 'text': ['we', \"'ll\", 'stay', 'here', 'three', 'days']}\n",
      "{'label': 'ADD_INFO', 'text': ['i', 'want', 'something', 'free']}\n",
      "{'label': 'ADD_INFO', 'text': ['i', 'want', 'to', 'do', 'something', 'that', 'does', \"n't\", 'cost', 'money']}\n",
      "{'label': 'ADD_INFO', 'text': ['we', \"'re\", 'five', 'of', 'us']}\n",
      "{'label': 'ADD_INFO', 'text': ['we', \"'re\", 'three', 'friends']}\n",
      "{'label': 'ADD_INFO', 'text': ['we', \"'ve\", 'just', 'married']}\n",
      "{'label': 'ADD_INFO_NEG', 'text': ['i', 'ca', \"n't\", 'eat', 'meat']}\n",
      "{'label': 'ADD_INFO_NEG', 'text': ['i', 'ca', \"n't\", 'stand', 'museums']}\n",
      "{'label': 'ADD_INFO_NEG', 'text': ['i', 'do', \"n't\", 'like', 'the', 'crowd']}\n",
      "{'label': 'ADD_INFO_NEG', 'text': ['i', 'prefer', 'not', 'to', 'go', 'far']}\n",
      "{'label': 'ADD_INFO_NEG', 'text': ['i', 'do', \"n't\", 'want', 'food']}\n",
      "{'label': 'ADD_INFO_NEG', 'text': ['i', 'do', \"n't\", 'like', 'music']}\n",
      "{'label': 'ADD_INFO_NEG', 'text': ['i', 'had', 'a', 'bad', 'experience', 'with', 'theatres']}\n",
      "{'label': 'ADD_INFO_NEG', 'text': ['i', 'do', \"n't\", 'want', 'to', 'be', 'outside']}\n",
      "{'label': 'ADD_INFO_NEG', 'text': ['i', 'do', \"n't\", 'like', 'churches']}\n",
      "{'label': 'ADD_INFO_NEG', 'text': ['i', 'hate', 'architecture']}\n",
      "{'label': 'ADD_INFO_NEG', 'text': ['i', 'do', \"n't\", 'want', 'to', 'pay', 'for', 'anything']}\n",
      "{'label': 'ADD_INFO_NEG', 'text': ['i', 'do', \"n't\", 'want', 'anything', 'expensive']}\n",
      "{'label': 'ADD_INFO_NEG', 'text': ['i', 'would', 'hate', 'to', 'have', 'to', 'walk']}\n",
      "{'label': 'ADD_INFO_NEG', 'text': ['i', 'do', \"n't\", 'like', 'paintings']}\n",
      "{'label': 'ADD_INFO_NEG', 'text': ['i', 'hate', 'alcohol']}\n",
      "{'label': 'ADD_INFO_NEG', 'text': ['he', 'hates', 'walking', 'too', 'much']}\n",
      "{'label': 'ADD_INFO_NEG', 'text': ['i', 'do', \"n't\", 'like', 'museums']}\n",
      "{'label': 'ADD_INFO_NEG', 'text': ['i', 'do', \"n't\", 'want', 'anything', 'to', 'do', 'with', 'bullfighting']}\n",
      "{'label': 'ADD_INFO_NEG', 'text': ['i', 'hate', 'parks']}\n",
      "{'label': 'ADD_INFO_NEG', 'text': ['my', 'children', 'prefer', 'not', 'to', 'visit', 'churches']}\n",
      "{'label': 'ADD_INFO_NEG', 'text': ['she', 'does', \"n't\", 'like', 'parks']}\n",
      "{'label': 'ADD_INFO_NEG', 'text': ['i', 'do', \"n't\", 'want', 'to', 'spend', 'much']}\n",
      "{'label': 'ADD_INFO_POS', 'text': ['i', 'adore', 'art']}\n",
      "{'label': 'ADD_INFO_POS', 'text': ['my', 'child', 'loves', 'the', 'beach']}\n",
      "{'label': 'ADD_INFO_POS', 'text': ['my', 'kids', 'love', 'to', 'eat']}\n",
      "{'label': 'ADD_INFO_POS', 'text': ['i', 'ca', \"n't\", 'wait', 'to', 'visit', 'sagrada', 'familia']}\n",
      "{'label': 'ADD_INFO_POS', 'text': ['i', 'would', \"n't\", 'want', 'to', 'miss', 'the', 'wine']}\n",
      "{'label': 'ADD_INFO_POS', 'text': ['i', 'came', 'only', 'for', 'the', 'great', 'wine']}\n",
      "{'label': 'ADD_INFO_POS', 'text': ['i', 'must', 'visit', 'some', 'museums']}\n",
      "{'label': 'ADD_INFO_POS', 'text': ['i', 'like', 'museums']}\n",
      "{'label': 'ADD_INFO_POS', 'text': ['i', 'love', 'chocolate']}\n",
      "{'label': 'ADD_INFO_POS', 'text': ['my', 'daughter', 'loves', 'animals']}\n",
      "{'label': 'ADD_INFO_POS', 'text': ['my', 'girlfriend', 'loves', 'paintings']}\n",
      "{'label': 'ADD_INFO_POS', 'text': ['my', 'kids', 'love', 'football']}\n",
      "{'label': 'ADD_INFO_POS', 'text': ['she', 'likes', 'tall', 'buildings']}\n",
      "{'label': 'ADD_INFO_POS', 'text': ['we', 'like', 'art', 'and', 'science']}\n",
      "{'label': 'RECOMMENDATION', 'text': ['what', 'are', 'the', 'options', 'for', 'the', 'museums', '?']}\n",
      "{'label': 'RECOMMENDATION', 'text': ['what', 'restaurants', 'are', 'newar', 'here', '?']}\n",
      "{'label': 'RECOMMENDATION', 'text': ['what', 'can', 'we', 'do', 'today']}\n",
      "{'label': 'RECOMMENDATION', 'text': ['any', 'museums', 'open', 'on', 'the', 'weekend', '?']}\n",
      "{'label': 'RECOMMENDATION', 'text': ['is', 'there', 'anything', 'we', 'can', 'do', 'right', 'now', '?']}\n",
      "{'label': 'RECOMMENDATION', 'text': ['i', \"'m\", 'looking', 'for', 'a', 'recommendation', 'for', 'a', 'museum']}\n",
      "{'label': 'RECOMMENDATION', 'text': ['can', 'you', 'tell', 'me', 'where', 'i', 'can', 'find', 'good', 'food', '?']}\n",
      "{'label': 'RECOMMENDATION', 'text': ['can', 'you', 'tell', 'us', 'where', 'the', 'best', 'museums', 'are']}\n",
      "{'label': 'RECOMMENDATION', 'text': ['we', 'want', 'something', 'close']}\n",
      "{'label': 'RECOMMENDATION', 'text': ['what', 'can', 'we', 'do', 'on', 'the', 'weekend']}\n",
      "{'label': 'RECOMMENDATION', 'text': ['where', 'is', 'the', 'restaurant']}\n",
      "{'label': 'RECOMMENDATION', 'text': ['what', 'can', 'we', 'do', 'in', 'this', 'neighbourhood']}\n",
      "{'label': 'RECOMMENDATION', 'text': ['where', 'can', 'i', 'get', 'a', 'coffee']}\n",
      "{'label': 'RECOMMENDATION', 'text': ['we', \"'re\", 'looking', 'for', 'something', 'cheap']}\n",
      "{'label': 'CONFIRM', 'text': ['awesome']}\n",
      "{'label': 'CONFIRM', 'text': ['si']}\n",
      "{'label': 'CONFIRM', 'text': ['perfect']}\n",
      "{'label': 'CONFIRM', 'text': ['terrific']}\n",
      "{'label': 'CONFIRM', 'text': ['i', 'like', 'that']}\n",
      "{'label': 'CONFIRM', 'text': ['that', 'sounds', 'interesting']}\n",
      "{'label': 'CONFIRM', 'text': ['i', 'love', 'it']}\n",
      "{'label': 'CONFIRM', 'text': ['exactly']}\n",
      "{'label': 'CONFIRM', 'text': ['hundred', 'percent']}\n",
      "{'label': 'CONFIRM', 'text': ['of', 'course']}\n",
      "{'label': 'CONFIRM', 'text': ['why', 'not']}\n",
      "{'label': 'CONFIRM', 'text': ['let', \"'s\", 'do', 'it']}\n",
      "{'label': 'CONFIRM', 'text': ['fine']}\n",
      "{'label': 'CONFIRM', 'text': ['for', 'sure']}\n",
      "{'label': 'CONFIRM', 'text': ['great', 'thank', 'you']}\n",
      "{'label': 'CONFIRM', 'text': ['it', 'looks', 'cool']}\n",
      "{'label': 'CONFIRM', 'text': ['it', 'looks', 'fine']}\n",
      "{'label': 'CONFIRM', 'text': ['ok']}\n",
      "{'label': 'CONFIRM', 'text': ['okay', 'thank', 'you']}\n",
      "{'label': 'CONFIRM', 'text': ['sounds', 'fine']}\n",
      "{'label': 'CONFIRM', 'text': ['sure']}\n",
      "{'label': 'CONFIRM', 'text': ['that', \"'s\", 'cool']}\n",
      "{'label': 'CONFIRM', 'text': ['yeah']}\n",
      "{'label': 'CONFIRM', 'text': ['yes']}\n",
      "{'label': 'CONFIRM', 'text': ['yes', 'sound', 'great']}\n",
      "{'label': 'GOODBYE', 'text': ['bye']}\n",
      "{'label': 'GOODBYE', 'text': ['bye', 'bye']}\n",
      "{'label': 'GOODBYE', 'text': ['adios']}\n",
      "{'label': 'GOODBYE', 'text': ['good', 'bye']}\n",
      "{'label': 'GOODBYE', 'text': ['see', 'you']}\n",
      "{'label': 'GOODBYE', 'text': ['see', 'you', 'later']}\n",
      "{'label': 'GREETING', 'text': ['good', 'afternoon']}\n",
      "{'label': 'GREETING', 'text': ['good', 'afternoon', 'hermes']}\n",
      "{'label': 'GREETING', 'text': ['good', 'evening']}\n",
      "{'label': 'GREETING', 'text': ['good', 'evening', 'hermes']}\n",
      "{'label': 'GREETING', 'text': ['good', 'morning']}\n",
      "{'label': 'GREETING', 'text': ['good', 'morning', 'hermes']}\n",
      "{'label': 'GREETING', 'text': ['hello']}\n",
      "{'label': 'GREETING', 'text': ['hello', 'hermes']}\n",
      "{'label': 'GREETING', 'text': ['hey']}\n",
      "{'label': 'GREETING', 'text': ['hey', 'hermes']}\n",
      "{'label': 'GREETING', 'text': ['hi']}\n",
      "{'label': 'GREETING', 'text': ['hi', 'hermes']}\n",
      "{'label': 'RECOMMENDATION', 'text': ['are', 'there', 'any', 'monuments', 'around', 'here', '?']}\n",
      "{'label': 'RECOMMENDATION', 'text': ['are', 'there', 'any', 'museums', 'around', 'here', '?']}\n",
      "{'label': 'RECOMMENDATION', 'text': ['do', 'you', 'have', 'any', 'recommendation', '?']}\n",
      "{'label': 'RECOMMENDATION', 'text': ['do', 'you', 'have', 'any', 'suggestion', '?']}\n",
      "{'label': 'RECOMMENDATION', 'text': ['do', 'you', 'have', 'recommendations', 'on', 'what', 'to', 'do', 'here', '?']}\n",
      "{'label': 'RECOMMENDATION', 'text': ['i', 'would', 'like', 'something', 'artsy']}\n",
      "{'label': 'RECOMMENDATION', 'text': ['i', 'would', 'like', 'to', 'know', 'if', 'there', \"'s\", 'any', 'park']}\n",
      "{'label': 'RECOMMENDATION', 'text': ['i', 'would', 'like', 'to', 'know', 'if', 'there', \"'s\", 'any', 'zoo']}\n",
      "{'label': 'RECOMMENDATION', 'text': ['i', \"'m\", 'looking', 'for', 'an', 'art', 'museum', 'for', 'today']}\n",
      "{'label': 'RECOMMENDATION', 'text': ['something', 'interesting', 'for', 'children']}\n",
      "{'label': 'RECOMMENDATION', 'text': ['we', 'would', 'like', 'somewhere', 'to', 'eat', 'afterwards']}\n",
      "{'label': 'RECOMMENDATION', 'text': ['what', 'do', 'you', 'suggest', '?']}\n",
      "{'label': 'RECOMMENDATION', 'text': ['what', 'is', 'the', 'best', 'museum', '?']}\n",
      "{'label': 'RECOMMENDATION', 'text': ['what', 'museum', 'would', 'be', 'appropriate', 'for', 'us', '?']}\n",
      "{'label': 'RECOMMENDATION', 'text': ['what', 'can', 'we', 'do', 'around', 'here', '?']}\n",
      "{'label': 'RECOMMENDATION', 'text': ['which', 'museum', 'is', 'best', '?']}\n",
      "{'label': 'RECOMMENDATION', 'text': ['what', 'do', 'you', 'propose', '?']}\n",
      "{'label': 'REJECT', 'text': ['i', 'do', \"n't\", 'like', 'it']}\n",
      "{'label': 'REJECT', 'text': ['i', 'do', \"n't\", 'think', 'so']}\n",
      "{'label': 'REJECT', 'text': ['i', 'guess', 'not']}\n",
      "{'label': 'REJECT', 'text': ['i', \"'d\", 'rather', 'not']}\n",
      "{'label': 'REJECT', 'text': ['no']}\n",
      "{'label': 'REJECT', 'text': ['probably', 'not']}\n",
      "{'label': 'REJECT', 'text': ['does', 'not', 'sound', 'like', 'a', 'good', 'idea']}\n",
      "{'label': 'REJECT', 'text': ['can', 'you', 'recommend', 'something', 'else', '?']}\n",
      "{'label': 'REJECT', 'text': ['no', 'i', 'want', 'something', 'else']}\n",
      "{'label': 'REJECT', 'text': ['i', 'do', \"n't\", 'want', 'to', 'do', 'that']}\n",
      "{'label': 'REJECT', 'text': ['no', 'i', 'rather', 'not']}\n",
      "{'label': 'REJECT', 'text': ['not', 'a', 'good', 'idea']}\n",
      "{'label': 'REJECT', 'text': ['i', 'do', \"n't\", 'want', 'to', 'do', 'that']}\n",
      "{'label': 'REJECT', 'text': ['it', \"'s\", 'not', 'for', 'me']}\n",
      "{'label': 'REJECT', 'text': ['does', \"n't\", 'sound', 'good']}\n",
      "{'label': 'REJECT', 'text': ['do', 'you', 'have', 'other', 'recommendations']}\n",
      "{'label': 'REJECT', 'text': ['that', 'does', \"n't\", 'seem', 'cool']}\n",
      "{'label': 'REJECT', 'text': ['that', \"'s\", 'awful']}\n",
      "{'label': 'REJECT', 'text': ['we', 'would', 'like', 'better', 'ideas']}\n",
      "{'label': 'REQUEST_INFO', 'text': ['is', 'it', 'vegetarian', 'friendly', '?']}\n",
      "{'label': 'REQUEST_INFO', 'text': ['can', 'i', 'walk', 'there', '?']}\n",
      "{'label': 'REQUEST_INFO', 'text': ['is', 'it', 'still', 'open', '?']}\n",
      "{'label': 'REQUEST_INFO', 'text': ['how', 'late', 'is', 'it', 'open', '?']}\n",
      "{'label': 'REQUEST_INFO', 'text': ['can', 'i', 'take', 'a', 'taxi', 'there', '?']}\n",
      "{'label': 'REQUEST_INFO', 'text': ['does', 'it', 'have', 'good', 'reviews', '?']}\n",
      "{'label': 'REQUEST_INFO', 'text': ['how', 'is', 'that', 'special', '?']}\n",
      "{'label': 'REQUEST_INFO', 'text': ['do', 'they', 'have', 'live', 'music', '?']}\n",
      "{'label': 'REQUEST_INFO', 'text': ['do', 'children', 'get', 'a', 'discount', 'rate', '?']}\n",
      "{'label': 'REQUEST_INFO', 'text': ['do', 'we', 'have', 'to', 'take', 'the', 'metro', '?']}\n",
      "{'label': 'REQUEST_INFO', 'text': ['how', 'can', 'i', 'get', 'there', '?']}\n",
      "{'label': 'REQUEST_INFO', 'text': ['is', 'it', 'far', 'from', 'here', '?']}\n",
      "{'label': 'REQUEST_INFO', 'text': ['is', 'it', 'good', 'for', 'children', '?']}\n",
      "{'label': 'REQUEST_INFO', 'text': ['is', 'it', 'open', 'on', 'sundays', '?']}\n",
      "{'label': 'REQUEST_INFO', 'text': ['is', 'it', 'very', 'far', '?']}\n",
      "{'label': 'REQUEST_INFO', 'text': ['what', 'is', 'the', 'price', '?']}\n",
      "{'label': 'REQUEST_INFO', 'text': ['what', 'is', 'the', 'timetable', '?']}\n",
      "{'label': 'THANKS', 'text': ['i', 'appreciate', 'it']}\n",
      "{'label': 'THANKS', 'text': ['you', 'were', 'wonderful']}\n",
      "{'label': 'THANKS', 'text': ['you', 'are', 'great']}\n",
      "{'label': 'THANKS', 'text': ['this', 'was', 'very', 'helpful']}\n",
      "{'label': 'THANKS', 'text': ['thank', 'you', 'for', 'your', 'help']}\n",
      "{'label': 'THANKS', 'text': ['thank', 'you', 'for', 'helping', 'us']}\n",
      "{'label': 'THANKS', 'text': ['you', 'were', 'very', 'nice']}\n",
      "{'label': 'THANKS', 'text': ['cheers']}\n",
      "{'label': 'THANKS', 'text': ['thank', 'you']}\n",
      "{'label': 'THANKS', 'text': ['thanks']}\n",
      "{'label': 'THANKS', 'text': ['thanks', 'a', 'bunch']}\n",
      "{'label': 'THANKS', 'text': ['thanks', 'a', 'lot']}\n",
      "{'label': 'THANKS', 'text': ['very', 'appreciated']}\n",
      "{'label': 'GREETING', 'text': ['good', 'afternoon']}\n"
     ]
    }
   ],
   "source": [
    "#loading custom dataset\n",
    "path = 'intent_data.csv'\n",
    "training_data=data.TabularDataset(path = path, format = 'csv', fields = fields, skip_header = True)\n",
    "\n",
    "#print preprocessed text\n",
    "for i in range(200):\n",
    "    print(vars(training_data.examples[i]))"
   ]
  },
  {
   "cell_type": "code",
   "execution_count": 5,
   "metadata": {},
   "outputs": [],
   "source": [
    "import random\n",
    "train_data, valid_data = training_data.split(split_ratio=0.7, random_state = random.seed(SEED))"
   ]
  },
  {
   "cell_type": "code",
   "execution_count": 6,
   "metadata": {},
   "outputs": [
    {
     "name": "stdout",
     "output_type": "stream",
     "text": [
      "Size of TEXT vocabulary: 228\n",
      "Size of LABEL vocabulary: 10\n",
      "[('i', 50), ('do', 27), ('?', 26), ('to', 22), ('you', 19), (\"n't\", 18), ('we', 17), ('like', 17), ('want', 16), ('for', 15)]\n",
      "defaultdict(<bound method Vocab._default_unk_index of <torchtext.legacy.vocab.Vocab object at 0x7f2f7aa318b0>>, {'<unk>': 0, '<pad>': 1, 'i': 2, 'do': 3, '?': 4, 'to': 5, 'you': 6, \"n't\": 7, 'like': 8, 'we': 9, 'want': 10, 'for': 11, 'is': 12, 'it': 13, 'good': 14, 'that': 15, 'the': 16, 'there': 17, 'are': 18, 'my': 19, \"'s\": 20, 'a': 21, 'have': 22, 'here': 23, 'something': 24, '!': 25, 'any': 26, 'can': 27, 'museums': 28, 'not': 29, 'see': 30, 'what': 31, 'would': 32, 'great': 33, 'hello': 34, 'love': 35, 'museum': 36, 'thank': 37, 'yes': 38, \"'m\": 39, 'around': 40, 'bye': 41, 'children': 42, 'hi': 43, 'how': 44, 'later': 45, 'music': 46, 'no': 47, 'sure': 48, 'afternoon': 49, 'anything': 50, 'art': 51, 'be': 52, 'best': 53, 'course': 54, 'hate': 55, 'hermes': 56, 'looking': 57, 'loves': 58, 'of': 59, 'on': 60, 'open': 61, 'recommendation': 62, 'thanks': 63, 'us': 64, 'very': 65, 'where': 66, \"'ll\": 67, \"'re\": 68, ',': 69, 'beach': 70, 'ca': 71, 'came': 72, 'churches': 73, 'close': 74, 'cool': 75, 'cuisine': 76, 'daughter': 77, 'does': 78, 'eat': 79, 'else': 80, 'fine': 81, 'food': 82, 'hey': 83, 'if': 84, 'interesting': 85, 'know': 86, 'live': 87, 'looks': 88, 'paintings': 89, 'parks': 90, 'she': 91, 'sounds': 92, 'take': 93, 'three': 94, 'visit': 95, 'walk': 96, 'will': 97, 'wine': 98, 'yeah': 99, \"'d\": 100, 'about': 101, 'adios': 102, 'adore': 103, 'afterwards': 104, 'an': 105, 'and': 106, 'animals': 107, 'appreciate': 108, 'appreciated': 109, 'appropriate': 110, 'architecture': 111, 'ask': 112, 'awesome': 113, 'awful': 114, 'barcelona': 115, 'buildings': 116, 'bullfighting': 117, 'bunch': 118, 'cheap': 119, 'cheers': 120, 'child': 121, 'chocolate': 122, 'coffee': 123, 'come': 124, 'cost': 125, 'crowd': 126, 'dancing': 127, 'day': 128, 'days': 129, 'directions': 130, 'eight': 131, 'evening': 132, 'exactly': 133, 'expensive': 134, 'familia': 135, 'far': 136, 'favorite': 137, 'free': 138, 'french': 139, 'friendly': 140, 'friends': 141, 'get': 142, 'girlfirend': 143, 'girlfriend': 144, 'going': 145, 'group': 146, 'help': 147, 'helpful': 148, 'helping': 149, 'hundred': 150, 'husbund': 151, 'idea': 152, 'in': 153, 'join': 154, 'just': 155, 'last': 156, 'late': 157, 'likes': 158, 'listen': 159, 'local': 160, 'me': 161, 'meat': 162, 'metro': 163, 'miss': 164, 'monday': 165, 'money': 166, 'monuments': 167, 'morning': 168, 'much': 169, 'must': 170, 'newar': 171, 'nice': 172, 'now': 173, 'ok': 174, 'one': 175, 'only': 176, 'our': 177, 'outside': 178, 'park': 179, 'percent': 180, 'perfect': 181, 'prefer': 182, 'probably': 183, 'propose': 184, 'rather': 185, 'recommend': 186, 'recommendations': 187, 'restaurant': 188, 'restaurants': 189, 'right': 190, 'sagrada': 191, 'so': 192, 'some': 193, 'somewhere': 194, 'son': 195, 'sound': 196, 'special': 197, 'spend': 198, 'stand': 199, 'stay': 200, 'still': 201, 'suggestion': 202, 'sundays': 203, 'tall': 204, 'taxi': 205, 'tell': 206, 'terrific': 207, 'they': 208, 'think': 209, 'this': 210, 'tired': 211, 'today': 212, 'try': 213, 'twelve': 214, 'up': 215, 'vegetarian': 216, 'visiting': 217, 'was': 218, 'week': 219, 'weekend': 220, 'which': 221, 'with': 222, 'ya': 223, 'yep': 224, 'young': 225, 'your': 226, 'zoo': 227})\n"
     ]
    }
   ],
   "source": [
    "#initialize glove embeddings\n",
    "TEXT.build_vocab(train_data,min_freq=0,vectors = \"glove.6B.100d\")  \n",
    "LABEL.build_vocab(train_data)\n",
    "\n",
    "#No. of unique tokens in text\n",
    "print(\"Size of TEXT vocabulary:\",len(TEXT.vocab))\n",
    "\n",
    "#No. of unique tokens in label\n",
    "print(\"Size of LABEL vocabulary:\",len(LABEL.vocab))\n",
    "\n",
    "#Commonly used words\n",
    "print(TEXT.vocab.freqs.most_common(10))  \n",
    "\n",
    "#Word dictionary\n",
    "print(TEXT.vocab.stoi)   "
   ]
  },
  {
   "cell_type": "code",
   "execution_count": 7,
   "metadata": {},
   "outputs": [],
   "source": [
    "#check whether cuda is available\n",
    "device = torch.device('cpu')  \n",
    "\n",
    "#set batch size\n",
    "BATCH_SIZE = 10\n",
    "\n",
    "#Load an iterator\n",
    "train_iterator, valid_iterator = data.BucketIterator.splits(\n",
    "    (train_data, valid_data), \n",
    "    batch_size = BATCH_SIZE,\n",
    "    sort_key = lambda x: len(x.text),\n",
    "    sort_within_batch=True,\n",
    "    device = device)"
   ]
  },
  {
   "cell_type": "code",
   "execution_count": 8,
   "metadata": {},
   "outputs": [],
   "source": [
    "import torch.nn as nn\n",
    "\n",
    "class classifier(nn.Module):\n",
    "    \n",
    "    #define all the layers used in model\n",
    "    def __init__(self, vocab_size, embedding_dim, hidden_dim, output_dim, n_layers, \n",
    "                 bidirectional, dropout):\n",
    "        \n",
    "        #Constructor\n",
    "        super().__init__()          \n",
    "        \n",
    "        #embedding layer\n",
    "        self.embedding = nn.Embedding(vocab_size, embedding_dim)\n",
    "        \n",
    "        #lstm layer\n",
    "        self.lstm = nn.LSTM(embedding_dim, \n",
    "                           hidden_dim, \n",
    "                           num_layers=n_layers, \n",
    "                           bidirectional=bidirectional, \n",
    "                           dropout=dropout,\n",
    "                           batch_first=True)\n",
    "        \n",
    "        #dense layer\n",
    "        self.fc = nn.Linear(hidden_dim * 2, output_dim)\n",
    "        \n",
    "        #activation function\n",
    "        self.act = nn.Softmax()\n",
    "        \n",
    "    def forward(self, text, text_lengths):\n",
    "        \n",
    "        #text = [batch size,sent_length]\n",
    "        embedded = self.embedding(text)\n",
    "        #embedded = [batch size, sent_len, emb dim]\n",
    "      \n",
    "        #packed sequence\n",
    "        packed_embedded = nn.utils.rnn.pack_padded_sequence(embedded, text_lengths,batch_first=True)\n",
    "        \n",
    "        packed_output, (hidden, cell) = self.lstm(packed_embedded)\n",
    "        #hidden = [batch size, num layers * num directions,hid dim]\n",
    "        #cell = [batch size, num layers * num directions,hid dim]\n",
    "        \n",
    "        #concat the final forward and backward hidden state\n",
    "        hidden = torch.cat((hidden[-2,:,:], hidden[-1,:,:]), dim = 1)\n",
    "                \n",
    "        #hidden = [batch size, hid dim * num directions]\n",
    "        dense_outputs=self.fc(hidden)\n",
    "\n",
    "        #Final activation function\n",
    "        outputs=self.act(dense_outputs)\n",
    "        \n",
    "        return outputs"
   ]
  },
  {
   "cell_type": "code",
   "execution_count": 9,
   "metadata": {},
   "outputs": [],
   "source": [
    "#define hyperparameters\n",
    "size_of_vocab = len(TEXT.vocab)\n",
    "embedding_dim = 100\n",
    "num_hidden_nodes = 30\n",
    "num_output_nodes = 10\n",
    "num_layers = 1\n",
    "bidirection = True\n",
    "dropout = 0\n",
    "\n",
    "#instantiate the model\n",
    "model = classifier(size_of_vocab, embedding_dim, num_hidden_nodes,num_output_nodes, num_layers, \n",
    "                   bidirectional = True, dropout = dropout)"
   ]
  },
  {
   "cell_type": "code",
   "execution_count": 10,
   "metadata": {},
   "outputs": [
    {
     "name": "stdout",
     "output_type": "stream",
     "text": [
      "classifier(\n",
      "  (embedding): Embedding(228, 100)\n",
      "  (lstm): LSTM(100, 30, batch_first=True, bidirectional=True)\n",
      "  (fc): Linear(in_features=60, out_features=10, bias=True)\n",
      "  (act): Softmax(dim=None)\n",
      ")\n",
      "The model has 55,090 trainable parameters\n",
      "torch.Size([228, 100])\n"
     ]
    }
   ],
   "source": [
    "#architecture\n",
    "print(model)\n",
    "\n",
    "#No. of trianable parameters\n",
    "def count_parameters(model):\n",
    "    return sum(p.numel() for p in model.parameters() if p.requires_grad)\n",
    "    \n",
    "print(f'The model has {count_parameters(model):,} trainable parameters')\n",
    "\n",
    "#Initialize the pretrained embedding\n",
    "pretrained_embeddings = TEXT.vocab.vectors\n",
    "model.embedding.weight.data.copy_(pretrained_embeddings)\n",
    "\n",
    "print(pretrained_embeddings.shape)"
   ]
  },
  {
   "cell_type": "code",
   "execution_count": 11,
   "metadata": {},
   "outputs": [],
   "source": [
    "import torch.optim as optim\n",
    "\n",
    "#define optimizer and loss\n",
    "optimizer = optim.Adam(model.parameters(), lr = 0.0001)\n",
    "criterion = nn.CrossEntropyLoss()\n",
    "\n",
    "    \n",
    "#push to cuda if available\n",
    "model = model.to(device)\n",
    "criterion = criterion.to(device)"
   ]
  },
  {
   "cell_type": "code",
   "execution_count": 12,
   "metadata": {},
   "outputs": [],
   "source": [
    "def train(model, iterator, optimizer, criterion):\n",
    "    \n",
    "    #initialize every epoch \n",
    "    epoch_loss = 0\n",
    "    epoch_acc = 0\n",
    "    \n",
    "    #set the model in training phase\n",
    "    model.train()  \n",
    "    \n",
    "    for batch in iterator:\n",
    "        \n",
    "        #resets the gradients after every batch\n",
    "        optimizer.zero_grad()   \n",
    "        \n",
    "        #retrieve text and no. of words\n",
    "        text, text_lengths = batch.text   \n",
    "        \n",
    "        #convert to 1D tensor\n",
    "        predictions = model(text, text_lengths).squeeze()  \n",
    "        \n",
    "        #compute the loss\n",
    "        loss = criterion(predictions, batch.label.type(torch.LongTensor))        \n",
    "    \n",
    "        #compute the binary accuracy\n",
    "        \n",
    "        #backpropage the loss and compute the gradients\n",
    "        loss.backward()       \n",
    "        \n",
    "        #update the weights\n",
    "        optimizer.step()      \n",
    "        \n",
    "        #loss and accuracy\n",
    "        epoch_loss += loss.item()  \n",
    "        \n",
    "    return epoch_loss / len(iterator)"
   ]
  },
  {
   "cell_type": "code",
   "execution_count": 13,
   "metadata": {},
   "outputs": [],
   "source": [
    "def evaluate(model, iterator, criterion):\n",
    "    \n",
    "    #initialize every epoch\n",
    "    epoch_loss = 0\n",
    "    epoch_acc = 0\n",
    "\n",
    "    #deactivating dropout layers\n",
    "    model.eval()\n",
    "    \n",
    "    #deactivates autograd\n",
    "    with torch.no_grad():\n",
    "    \n",
    "        for batch in iterator:\n",
    "        \n",
    "            #retrieve text and no. of words\n",
    "            text, text_lengths = batch.text\n",
    "            \n",
    "            #convert to 1d tensor\n",
    "            predictions = model(text, text_lengths).squeeze()\n",
    "            \n",
    "            #compute loss and accuracy\n",
    "            loss = criterion(predictions, batch.label.type(torch.LongTensor))\n",
    "            \n",
    "            #keep track of loss and accuracy\n",
    "            epoch_loss += loss.item()\n",
    "        \n",
    "    return epoch_loss / len(iterator)"
   ]
  },
  {
   "cell_type": "code",
   "execution_count": 14,
   "metadata": {},
   "outputs": [],
   "source": [
    "def evaluate_acc(model, iterator):\n",
    "    correct_count = 0\n",
    "\n",
    "    #deactivating dropout layers\n",
    "    model.eval()\n",
    "    \n",
    "    #deactivates autograd\n",
    "    with torch.no_grad():\n",
    "    \n",
    "        for batch in iterator:\n",
    "        \n",
    "            #retrieve text and no. of words\n",
    "            text, text_lengths = batch.text\n",
    "            \n",
    "            #convert to 1d tensor\n",
    "            predictions = model(text, text_lengths).squeeze()\n",
    "            _, pred = torch.max(predictions, -1)\n",
    "            correct_count += (pred == batch.label).sum()            \n",
    "        \n",
    "    return correct_count / len(valid_data), '%'\n",
    "\n"
   ]
  },
  {
   "cell_type": "code",
   "execution_count": 15,
   "metadata": {},
   "outputs": [
    {
     "name": "stderr",
     "output_type": "stream",
     "text": [
      "<ipython-input-8-9fce78094710>:49: UserWarning: Implicit dimension choice for softmax has been deprecated. Change the call to include dim=X as an argument.\n",
      "  outputs=self.act(dense_outputs)\n"
     ]
    },
    {
     "data": {
      "image/png": "[encoded data removed]",
      "text/plain": [
       "<Figure size 432x288 with 1 Axes>"
      ]
     },
     "metadata": {
      "needs_background": "light"
     },
     "output_type": "display_data"
    }
   ],
   "source": [
    "N_EPOCHS = 700\n",
    "best_valid_loss = float('inf')\n",
    "\n",
    "train_loss_list = []\n",
    "test_loss_list = []\n",
    "\n",
    "for epoch in range(N_EPOCHS):\n",
    "     \n",
    "    #train the model\n",
    "    train_loss = train(model, train_iterator, optimizer, criterion)\n",
    "    \n",
    "    #evaluate the model\n",
    "    valid_loss = evaluate(model, valid_iterator, criterion)\n",
    "    \n",
    "    #save the best model\n",
    "    if valid_loss < best_valid_loss:\n",
    "        best_valid_loss = valid_loss\n",
    "        torch.save(model.state_dict(), 'saved_weights.pt')\n",
    "    \n",
    "    #print(f'\\tTrain Loss: {train_loss:.3f} | Train Acc: {train_acc*100:.2f}%')\n",
    "    train_loss_list.append(train_loss)\n",
    "    #print(f'\\t Val. Loss: {valid_loss:.3f} |  Val. Acc: {valid_acc*100:.2f}%')\n",
    "    test_loss_list.append(valid_loss)\n",
    "    \n",
    "plt.plot(train_loss_list, label = 'train')\n",
    "plt.plot(test_loss_list, label = 'test')\n",
    "plt.legend()\n",
    "plt.show()"
   ]
  },
  {
   "cell_type": "code",
   "execution_count": 16,
   "metadata": {},
   "outputs": [
    {
     "name": "stderr",
     "output_type": "stream",
     "text": [
      "<ipython-input-8-9fce78094710>:49: UserWarning: Implicit dimension choice for softmax has been deprecated. Change the call to include dim=X as an argument.\n",
      "  outputs=self.act(dense_outputs)\n"
     ]
    },
    {
     "data": {
      "text/plain": [
       "(tensor(0.6712), '%')"
      ]
     },
     "execution_count": 16,
     "metadata": {},
     "output_type": "execute_result"
    }
   ],
   "source": [
    "evaluate_acc(model, valid_iterator)"
   ]
  },
  {
   "cell_type": "code",
   "execution_count": 23,
   "metadata": {},
   "outputs": [
    {
     "name": "stdout",
     "output_type": "stream",
     "text": [
      "Total time spend = 0.2787282466888428\n"
     ]
    },
    {
     "name": "stderr",
     "output_type": "stream",
     "text": [
      "<ipython-input-8-9fce78094710>:49: UserWarning: Implicit dimension choice for softmax has been deprecated. Change the call to include dim=X as an argument.\n",
      "  outputs=self.act(dense_outputs)\n"
     ]
    }
   ],
   "source": [
    "import time\n",
    "\n",
    "time_0 = time.time()\n",
    "#load weights\n",
    "path='saved_weights.pt'\n",
    "model.load_state_dict(torch.load(path));\n",
    "model.eval();\n",
    "\n",
    "#inference \n",
    "import spacy\n",
    "nlp = spacy.load(\"en_core_web_sm\")\n",
    "\n",
    "def predict(model, sentence):\n",
    "    tokenized = [tok.text.lower() for tok in nlp.tokenizer(sentence)]  #tokenize the sentence \n",
    "    indexed = [TEXT.vocab.stoi[t] for t in tokenized]          #convert to integer sequence\n",
    "    length = [len(indexed)]                                    #compute no. of words\n",
    "    tensor = torch.LongTensor(indexed).to(device)              #convert to tensor\n",
    "    tensor = tensor.unsqueeze(1).T                             #reshape in form of batch,no. of words\n",
    "    length_tensor = torch.LongTensor(length)                   #convert to tensor\n",
    "    prediction = model(tensor, length_tensor)                  #prediction \n",
    "    return 'Intent:' , list(LABEL.vocab.stoi)[torch.argmax(prediction)]\n",
    "\n",
    "\n",
    "predict(model, \"I don't like museums\")\n",
    "time_1 = time.time()\n",
    "print('Total time spend =', time_1 - time_0)"
   ]
  },
  {
   "cell_type": "code",
   "execution_count": 26,
   "metadata": {},
   "outputs": [
    {
     "name": "stderr",
     "output_type": "stream",
     "text": [
      "<ipython-input-8-9fce78094710>:49: UserWarning: Implicit dimension choice for softmax has been deprecated. Change the call to include dim=X as an argument.\n",
      "  outputs=self.act(dense_outputs)\n"
     ]
    },
    {
     "data": {
      "text/plain": [
       "('Intent:', 'ADD_INFO')"
      ]
     },
     "execution_count": 26,
     "metadata": {},
     "output_type": "execute_result"
    }
   ],
   "source": [
    "predict(model, \"I like moder art\")"
   ]
  },
  {
   "cell_type": "code",
   "execution_count": 19,
   "metadata": {},
   "outputs": [
    {
     "data": {
      "text/plain": [
       "defaultdict(None,\n",
       "            {'CONFIRM': 0,\n",
       "             'ADD_INFO': 1,\n",
       "             'RECOMMENDATION': 2,\n",
       "             'GREETING': 3,\n",
       "             'ADD_INFO_NEG': 4,\n",
       "             'REJECT': 5,\n",
       "             'REQUEST_INFO': 6,\n",
       "             'ADD_INFO_POS': 7,\n",
       "             'THANKS': 8,\n",
       "             'GOODBYE': 9})"
      ]
     },
     "execution_count": 19,
     "metadata": {},
     "output_type": "execute_result"
    }
   ],
   "source": [
    "LABEL.vocab.stoi"
   ]
  }
 ],
 "metadata": {
  "kernelspec": {
   "display_name": "Python 3",
   "language": "python",
   "name": "python3"
  },
  "language_info": {
   "codemirror_mode": {
    "name": "ipython",
    "version": 3
   },
   "file_extension": ".py",
   "mimetype": "text/x-python",
   "name": "python",
   "nbconvert_exporter": "python",
   "pygments_lexer": "ipython3",
   "version": "3.8.5"
  }
 },
 "nbformat": 4,
 "nbformat_minor": 4
}
