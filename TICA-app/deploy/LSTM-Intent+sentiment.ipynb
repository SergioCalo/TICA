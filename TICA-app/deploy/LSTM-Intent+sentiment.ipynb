{
 "cells": [
  {
   "cell_type": "code",
   "execution_count": 1,
   "metadata": {},
   "outputs": [],
   "source": [
    "#deal with tensors\n",
    "import torch   \n",
    "\n",
    "#handling text data\n",
    "from torchtext.legacy import data\n",
    "\n",
    "import matplotlib.pyplot as plt\n"
   ]
  },
  {
   "cell_type": "code",
   "execution_count": 2,
   "metadata": {},
   "outputs": [],
   "source": [
    "#Reproducing same results\n",
    "SEED = 10\n",
    "\n",
    "#Torch\n",
    "torch.manual_seed(SEED)\n",
    "\n",
    "#Cuda algorithms\n",
    "torch.backends.cudnn.deterministic = True "
   ]
  },
  {
   "cell_type": "code",
   "execution_count": 3,
   "metadata": {},
   "outputs": [
    {
     "name": "stderr",
     "output_type": "stream",
     "text": [
      "/home/sergio/anaconda3/lib/python3.8/site-packages/torchtext/data/utils.py:123: UserWarning: Spacy model \"en\" could not be loaded, trying \"en_core_web_sm\" instead\n",
      "  warnings.warn(f'Spacy model \"{language}\" could not be loaded, trying \"{OLD_MODEL_SHORTCUTS[language]}\" instead')\n"
     ]
    }
   ],
   "source": [
    "TEXT = data.Field(tokenize='spacy',batch_first=True,include_lengths=True, lower=True)\n",
    "LABEL = data.LabelField(dtype = torch.float,batch_first=True)\n",
    "fields = [('label', LABEL), ('text',TEXT)]"
   ]
  },
  {
   "cell_type": "code",
   "execution_count": 4,
   "metadata": {},
   "outputs": [
    {
     "name": "stdout",
     "output_type": "stream",
     "text": [
      "{'label': 'ADD_INFO', 'text': ['i', 'love', 'museums']}\n",
      "{'label': 'ADD_INFO', 'text': ['i', 'would', 'like', 'to', 'be', 'outside']}\n",
      "{'label': 'ADD_INFO', 'text': ['i', 'love', 'to', 'be', 'outdoors']}\n",
      "{'label': 'ADD_INFO', 'text': ['we', 'are', 'a', 'group']}\n",
      "{'label': 'ADD_INFO', 'text': ['we', 'want', 'something', 'close']}\n"
     ]
    }
   ],
   "source": [
    "#loading custom dataset\n",
    "path = 'intent_data_sent.csv'\n",
    "training_data=data.TabularDataset(path = path, format = 'csv', fields = fields, skip_header = True)\n",
    "\n",
    "#print preprocessed text\n",
    "for i in range(5):\n",
    "    print(vars(training_data.examples[i]))"
   ]
  },
  {
   "cell_type": "code",
   "execution_count": 5,
   "metadata": {},
   "outputs": [],
   "source": [
    "import random\n",
    "train_data, valid_data = training_data.split(split_ratio=0.7, random_state = random.seed(SEED))"
   ]
  },
  {
   "cell_type": "code",
   "execution_count": 6,
   "metadata": {},
   "outputs": [
    {
     "name": "stdout",
     "output_type": "stream",
     "text": [
      "Size of TEXT vocabulary: 227\n",
      "Size of LABEL vocabulary: 8\n",
      "[('i', 49), ('do', 27), ('?', 26), ('to', 22), ('you', 19), (\"n't\", 18), ('we', 16), ('want', 16), ('for', 15), ('is', 15)]\n",
      "defaultdict(<bound method Vocab._default_unk_index of <torchtext.legacy.vocab.Vocab object at 0x7f27c6d02130>>, {'<unk>': 0, '<pad>': 1, 'i': 2, 'do': 3, '?': 4, 'to': 5, 'you': 6, \"n't\": 7, 'want': 8, 'we': 9, 'for': 10, 'is': 11, 'like': 12, 'it': 13, 'good': 14, 'that': 15, 'the': 16, 'there': 17, 'are': 18, 'my': 19, \"'s\": 20, 'a': 21, 'have': 22, 'here': 23, 'something': 24, '!': 25, 'any': 26, 'can': 27, 'museums': 28, 'not': 29, 'see': 30, 'what': 31, 'would': 32, 'great': 33, 'hello': 34, 'love': 35, 'museum': 36, 'thank': 37, 'yes': 38, \"'m\": 39, 'around': 40, 'bye': 41, 'children': 42, 'hi': 43, 'how': 44, 'later': 45, 'music': 46, 'no': 47, 'sure': 48, 'afternoon': 49, 'anything': 50, 'art': 51, 'be': 52, 'best': 53, 'course': 54, 'hate': 55, 'hermes': 56, 'looking': 57, 'loves': 58, 'of': 59, 'on': 60, 'open': 61, 'recommendation': 62, 'thanks': 63, 'us': 64, 'very': 65, 'where': 66, \"'ll\": 67, \"'re\": 68, 'beach': 69, 'ca': 70, 'came': 71, 'churches': 72, 'close': 73, 'cool': 74, 'cuisine': 75, 'daughter': 76, 'does': 77, 'eat': 78, 'else': 79, 'fine': 80, 'food': 81, 'hey': 82, 'if': 83, 'interesting': 84, 'know': 85, 'live': 86, 'looks': 87, 'paintings': 88, 'parks': 89, 'she': 90, 'sounds': 91, 'take': 92, 'three': 93, 'visit': 94, 'walk': 95, 'will': 96, 'wine': 97, 'yeah': 98, \"'d\": 99, 'about': 100, 'adios': 101, 'adore': 102, 'afterwards': 103, 'an': 104, 'and': 105, 'animals': 106, 'appreciate': 107, 'appreciated': 108, 'appropriate': 109, 'architecture': 110, 'ask': 111, 'awesome': 112, 'awful': 113, 'barcelona': 114, 'buildings': 115, 'bullfighting': 116, 'bunch': 117, 'cheap': 118, 'cheers': 119, 'child': 120, 'chocolate': 121, 'coffee': 122, 'come': 123, 'cost': 124, 'crowd': 125, 'dancing': 126, 'day': 127, 'days': 128, 'directions': 129, 'eight': 130, 'evening': 131, 'exactly': 132, 'expensive': 133, 'familia': 134, 'far': 135, 'favorite': 136, 'free': 137, 'french': 138, 'friendly': 139, 'friends': 140, 'get': 141, 'girlfirend': 142, 'girlfriend': 143, 'going': 144, 'group': 145, 'help': 146, 'helpful': 147, 'helping': 148, 'hundred': 149, 'husbund': 150, 'idea': 151, 'in': 152, 'join': 153, 'just': 154, 'last': 155, 'late': 156, 'likes': 157, 'listen': 158, 'local': 159, 'me': 160, 'meat': 161, 'metro': 162, 'miss': 163, 'monday': 164, 'money': 165, 'monuments': 166, 'morning': 167, 'much': 168, 'must': 169, 'newar': 170, 'nice': 171, 'now': 172, 'ok': 173, 'one': 174, 'only': 175, 'our': 176, 'outside': 177, 'park': 178, 'percent': 179, 'perfect': 180, 'prefer': 181, 'probably': 182, 'propose': 183, 'rather': 184, 'recommend': 185, 'recommendations': 186, 'restaurant': 187, 'restaurants': 188, 'right': 189, 'sagrada': 190, 'so': 191, 'some': 192, 'somewhere': 193, 'son': 194, 'sound': 195, 'special': 196, 'spend': 197, 'stand': 198, 'stay': 199, 'still': 200, 'suggestion': 201, 'sundays': 202, 'tall': 203, 'taxi': 204, 'tell': 205, 'terrific': 206, 'they': 207, 'think': 208, 'this': 209, 'tired': 210, 'today': 211, 'try': 212, 'twelve': 213, 'up': 214, 'vegetarian': 215, 'visiting': 216, 'was': 217, 'week': 218, 'weekend': 219, 'which': 220, 'with': 221, 'ya': 222, 'yep': 223, 'young': 224, 'your': 225, 'zoo': 226})\n"
     ]
    }
   ],
   "source": [
    "#initialize glove embeddings\n",
    "TEXT.build_vocab(train_data,min_freq=0,vectors = \"glove.6B.100d\")  \n",
    "LABEL.build_vocab(train_data)\n",
    "\n",
    "#No. of unique tokens in text\n",
    "print(\"Size of TEXT vocabulary:\",len(TEXT.vocab))\n",
    "\n",
    "#No. of unique tokens in label\n",
    "print(\"Size of LABEL vocabulary:\",len(LABEL.vocab))\n",
    "\n",
    "#Commonly used words\n",
    "print(TEXT.vocab.freqs.most_common(10))  \n",
    "\n",
    "#Word dictionary\n",
    "print(TEXT.vocab.stoi)   "
   ]
  },
  {
   "cell_type": "code",
   "execution_count": 7,
   "metadata": {},
   "outputs": [],
   "source": [
    "#check whether cuda is available\n",
    "device = torch.device('cpu')  \n",
    "\n",
    "#set batch size\n",
    "BATCH_SIZE = 10\n",
    "\n",
    "#Load an iterator\n",
    "train_iterator, valid_iterator = data.BucketIterator.splits(\n",
    "    (train_data, valid_data), \n",
    "    batch_size = BATCH_SIZE,\n",
    "    sort_key = lambda x: len(x.text),\n",
    "    sort_within_batch=True,\n",
    "    device = device)"
   ]
  },
  {
   "cell_type": "code",
   "execution_count": 8,
   "metadata": {},
   "outputs": [],
   "source": [
    "import torch.nn as nn\n",
    "\n",
    "class classifier(nn.Module):\n",
    "    \n",
    "    #define all the layers used in model\n",
    "    def __init__(self, vocab_size, embedding_dim, hidden_dim, output_dim, n_layers, \n",
    "                 bidirectional, dropout):\n",
    "        \n",
    "        #Constructor\n",
    "        super().__init__()          \n",
    "        \n",
    "        #embedding layer\n",
    "        self.embedding = nn.Embedding(vocab_size, embedding_dim)\n",
    "        \n",
    "        #lstm layer\n",
    "        self.lstm = nn.LSTM(embedding_dim, \n",
    "                           hidden_dim, \n",
    "                           num_layers=n_layers, \n",
    "                           bidirectional=bidirectional, \n",
    "                           dropout=dropout,\n",
    "                           batch_first=True)\n",
    "        \n",
    "        #dense layer\n",
    "        self.fc = nn.Linear(hidden_dim * 2, output_dim)\n",
    "        \n",
    "        #activation function\n",
    "        self.act = nn.Softmax()\n",
    "        \n",
    "    def forward(self, text, text_lengths):\n",
    "        \n",
    "        #text = [batch size,sent_length]\n",
    "        embedded = self.embedding(text)\n",
    "        #embedded = [batch size, sent_len, emb dim]\n",
    "      \n",
    "        #packed sequence\n",
    "        packed_embedded = nn.utils.rnn.pack_padded_sequence(embedded, text_lengths,batch_first=True)\n",
    "        \n",
    "        packed_output, (hidden, cell) = self.lstm(packed_embedded)\n",
    "        #hidden = [batch size, num layers * num directions,hid dim]\n",
    "        #cell = [batch size, num layers * num directions,hid dim]\n",
    "        \n",
    "        #concat the final forward and backward hidden state\n",
    "        hidden = torch.cat((hidden[-2,:,:], hidden[-1,:,:]), dim = 1)\n",
    "                \n",
    "        #hidden = [batch size, hid dim * num directions]\n",
    "        dense_outputs=self.fc(hidden)\n",
    "\n",
    "        #Final activation function\n",
    "        outputs=self.act(dense_outputs)\n",
    "        \n",
    "        return outputs"
   ]
  },
  {
   "cell_type": "code",
   "execution_count": 9,
   "metadata": {},
   "outputs": [
    {
     "name": "stdout",
     "output_type": "stream",
     "text": [
      "227\n"
     ]
    }
   ],
   "source": [
    "#define hyperparameters\n",
    "size_of_vocab = len(TEXT.vocab)\n",
    "print(size_of_vocab)\n",
    "embedding_dim = 100\n",
    "num_hidden_nodes = 30\n",
    "num_output_nodes = 8\n",
    "num_layers = 1\n",
    "bidirection = True\n",
    "dropout = 0\n",
    "\n",
    "#instantiate the model\n",
    "model = classifier(size_of_vocab, embedding_dim, num_hidden_nodes,num_output_nodes, num_layers, \n",
    "                   bidirectional = True, dropout = dropout)"
   ]
  },
  {
   "cell_type": "code",
   "execution_count": 10,
   "metadata": {},
   "outputs": [
    {
     "name": "stdout",
     "output_type": "stream",
     "text": [
      "classifier(\n",
      "  (embedding): Embedding(227, 100)\n",
      "  (lstm): LSTM(100, 30, batch_first=True, bidirectional=True)\n",
      "  (fc): Linear(in_features=60, out_features=8, bias=True)\n",
      "  (act): Softmax(dim=None)\n",
      ")\n",
      "The model has 54,868 trainable parameters\n",
      "torch.Size([227, 100])\n"
     ]
    }
   ],
   "source": [
    "#architecture\n",
    "print(model)\n",
    "\n",
    "#No. of trianable parameters\n",
    "def count_parameters(model):\n",
    "    return sum(p.numel() for p in model.parameters() if p.requires_grad)\n",
    "    \n",
    "print(f'The model has {count_parameters(model):,} trainable parameters')\n",
    "\n",
    "#Initialize the pretrained embedding\n",
    "pretrained_embeddings = TEXT.vocab.vectors\n",
    "model.embedding.weight.data.copy_(pretrained_embeddings)\n",
    "\n",
    "print(pretrained_embeddings.shape)"
   ]
  },
  {
   "cell_type": "code",
   "execution_count": 11,
   "metadata": {},
   "outputs": [],
   "source": [
    "import torch.optim as optim\n",
    "\n",
    "#define optimizer and loss\n",
    "optimizer = optim.Adam(model.parameters(), lr = 0.0001)\n",
    "criterion = nn.CrossEntropyLoss()\n",
    "\n",
    "    \n",
    "#push to cuda if available\n",
    "model = model.to(device)\n",
    "criterion = criterion.to(device)"
   ]
  },
  {
   "cell_type": "code",
   "execution_count": 12,
   "metadata": {},
   "outputs": [],
   "source": [
    "def train(model, iterator, optimizer, criterion):\n",
    "    \n",
    "    #initialize every epoch \n",
    "    epoch_loss = 0\n",
    "    epoch_acc = 0\n",
    "    \n",
    "    #set the model in training phase\n",
    "    model.train()  \n",
    "    \n",
    "    for batch in iterator:\n",
    "        \n",
    "        #resets the gradients after every batch\n",
    "        optimizer.zero_grad()   \n",
    "        \n",
    "        #retrieve text and no. of words\n",
    "        text, text_lengths = batch.text   \n",
    "        \n",
    "        #convert to 1D tensor\n",
    "        predictions = model(text, text_lengths).squeeze()  \n",
    "        \n",
    "        #compute the loss\n",
    "        loss = criterion(predictions, batch.label.type(torch.LongTensor))        \n",
    "    \n",
    "        #compute the binary accuracy\n",
    "        \n",
    "        #backpropage the loss and compute the gradients\n",
    "        loss.backward()       \n",
    "        \n",
    "        #update the weights\n",
    "        optimizer.step()      \n",
    "        \n",
    "        #loss and accuracy\n",
    "        epoch_loss += loss.item()  \n",
    "        \n",
    "    return epoch_loss / len(iterator)"
   ]
  },
  {
   "cell_type": "code",
   "execution_count": 13,
   "metadata": {},
   "outputs": [],
   "source": [
    "def evaluate(model, iterator, criterion):\n",
    "    \n",
    "    #initialize every epoch\n",
    "    epoch_loss = 0\n",
    "    epoch_acc = 0\n",
    "\n",
    "    #deactivating dropout layers\n",
    "    model.eval()\n",
    "    \n",
    "    #deactivates autograd\n",
    "    with torch.no_grad():\n",
    "    \n",
    "        for batch in iterator:\n",
    "        \n",
    "            #retrieve text and no. of words\n",
    "            text, text_lengths = batch.text\n",
    "            \n",
    "            #convert to 1d tensor\n",
    "            predictions = model(text, text_lengths).squeeze()\n",
    "            \n",
    "            #compute loss and accuracy\n",
    "            loss = criterion(predictions, batch.label.type(torch.LongTensor))\n",
    "            \n",
    "            #keep track of loss and accuracy\n",
    "            epoch_loss += loss.item()\n",
    "        \n",
    "    return epoch_loss / len(iterator)"
   ]
  },
  {
   "cell_type": "code",
   "execution_count": 14,
   "metadata": {},
   "outputs": [],
   "source": [
    "def evaluate_acc(model, iterator):\n",
    "    correct_count = 0\n",
    "\n",
    "    #deactivating dropout layers\n",
    "    model.eval()\n",
    "    \n",
    "    #deactivates autograd\n",
    "    with torch.no_grad():\n",
    "    \n",
    "        for batch in iterator:\n",
    "        \n",
    "            #retrieve text and no. of words\n",
    "            text, text_lengths = batch.text\n",
    "            \n",
    "            #convert to 1d tensor\n",
    "            predictions = model(text, text_lengths).squeeze()\n",
    "            _, pred = torch.max(predictions, -1)\n",
    "            correct_count += (pred == batch.label).sum()            \n",
    "        \n",
    "    return correct_count / len(valid_data), '%'\n",
    "\n"
   ]
  },
  {
   "cell_type": "code",
   "execution_count": 15,
   "metadata": {},
   "outputs": [
    {
     "name": "stderr",
     "output_type": "stream",
     "text": [
      "<ipython-input-8-9fce78094710>:49: UserWarning: Implicit dimension choice for softmax has been deprecated. Change the call to include dim=X as an argument.\n",
      "  outputs=self.act(dense_outputs)\n"
     ]
    },
    {
     "data": {
      "image/png": "[encoded data removed]",
      "text/plain": [
       "<Figure size 432x288 with 1 Axes>"
      ]
     },
     "metadata": {
      "needs_background": "light"
     },
     "output_type": "display_data"
    }
   ],
   "source": [
    "N_EPOCHS = 700\n",
    "best_valid_loss = float('inf')\n",
    "\n",
    "train_loss_list = []\n",
    "test_loss_list = []\n",
    "\n",
    "for epoch in range(N_EPOCHS):\n",
    "     \n",
    "    #train the model\n",
    "    train_loss = train(model, train_iterator, optimizer, criterion)\n",
    "    \n",
    "    #evaluate the model\n",
    "    valid_loss = evaluate(model, valid_iterator, criterion)\n",
    "    \n",
    "    #save the best model\n",
    "    if valid_loss < best_valid_loss:\n",
    "        best_valid_loss = valid_loss\n",
    "        torch.save(model.state_dict(), 'saved_weights_sent.pt')\n",
    "    \n",
    "    #print(f'\\tTrain Loss: {train_loss:.3f} | Train Acc: {train_acc*100:.2f}%')\n",
    "    train_loss_list.append(train_loss)\n",
    "    #print(f'\\t Val. Loss: {valid_loss:.3f} |  Val. Acc: {valid_acc*100:.2f}%')\n",
    "    test_loss_list.append(valid_loss)\n",
    "    \n",
    "plt.plot(train_loss_list, label = 'train')\n",
    "plt.plot(test_loss_list, label = 'test')\n",
    "plt.legend()\n",
    "plt.show()"
   ]
  },
  {
   "cell_type": "code",
   "execution_count": 16,
   "metadata": {},
   "outputs": [
    {
     "name": "stderr",
     "output_type": "stream",
     "text": [
      "<ipython-input-8-9fce78094710>:49: UserWarning: Implicit dimension choice for softmax has been deprecated. Change the call to include dim=X as an argument.\n",
      "  outputs=self.act(dense_outputs)\n"
     ]
    },
    {
     "data": {
      "text/plain": [
       "(tensor(0.7260), '%')"
      ]
     },
     "execution_count": 16,
     "metadata": {},
     "output_type": "execute_result"
    }
   ],
   "source": [
    "evaluate_acc(model, valid_iterator)"
   ]
  },
  {
   "cell_type": "code",
   "execution_count": 21,
   "metadata": {},
   "outputs": [
    {
     "name": "stdout",
     "output_type": "stream",
     "text": [
      "Total time spend = 0.2750098705291748\n"
     ]
    },
    {
     "name": "stderr",
     "output_type": "stream",
     "text": [
      "<ipython-input-8-9fce78094710>:49: UserWarning: Implicit dimension choice for softmax has been deprecated. Change the call to include dim=X as an argument.\n",
      "  outputs=self.act(dense_outputs)\n"
     ]
    }
   ],
   "source": [
    "import time\n",
    "\n",
    "#load weights\n",
    "path='saved_weights_sent.pt'\n",
    "model.load_state_dict(torch.load(path));\n",
    "model.eval();\n",
    "\n",
    "time_0 = time.time()\n",
    "#inference \n",
    "import spacy\n",
    "from vaderSentiment.vaderSentiment import SentimentIntensityAnalyzer\n",
    "nlp = spacy.load(\"en_core_web_sm\")\n",
    "\n",
    "def sentiment_scores(sentence):\n",
    "    \n",
    "    sid_obj = SentimentIntensityAnalyzer()\n",
    "    sentiment_dict = sid_obj.polarity_scores(sentence)\n",
    "\n",
    "    if sentiment_dict['compound'] >= 0.05 :\n",
    "        return \"Positive\"\n",
    "\n",
    "    elif sentiment_dict['compound'] <= - 0.05 :\n",
    "        return \"Negative\"\n",
    "\n",
    "    else :\n",
    "        return \"Neutral\"\n",
    "\n",
    "def predict(model, sentence):\n",
    "    tokenized = [tok.text.lower() for tok in nlp.tokenizer(sentence)]  #tokenize the sentence \n",
    "    indexed = [TEXT.vocab.stoi[t] for t in tokenized]          #convert to integer sequence\n",
    "    length = [len(indexed)]                                    #compute no. of words\n",
    "    tensor = torch.LongTensor(indexed).to(device)              #convert to tensor\n",
    "    tensor = tensor.unsqueeze(1).T                             #reshape in form of batch,no. of words\n",
    "    length_tensor = torch.LongTensor(length)                   #convert to tensor\n",
    "    prediction = model(tensor, length_tensor)                  #prediction \n",
    "    intent = list(LABEL.vocab.stoi)[torch.argmax(prediction)]\n",
    "    if intent == 'ADD_INFO':\n",
    "        sentiment = sentiment_scores(sentence)\n",
    "        \n",
    "    return 'Intent:' , intent + ' ' + sentiment\n",
    "\n",
    "predict(model, \"I like museums\")\n",
    "\n",
    "time_1 = time.time()\n",
    "print('Total time spend =', time_1 - time_0)\n",
    "\n"
   ]
  },
  {
   "cell_type": "code",
   "execution_count": 26,
   "metadata": {},
   "outputs": [
    {
     "name": "stderr",
     "output_type": "stream",
     "text": [
      "<ipython-input-8-9fce78094710>:49: UserWarning: Implicit dimension choice for softmax has been deprecated. Change the call to include dim=X as an argument.\n",
      "  outputs=self.act(dense_outputs)\n"
     ]
    },
    {
     "data": {
      "text/plain": [
       "('Intent:', 'ADD_INFO Positive')"
      ]
     },
     "execution_count": 26,
     "metadata": {},
     "output_type": "execute_result"
    }
   ],
   "source": [
    "predict(model, \"I like modern art\")"
   ]
  },
  {
   "cell_type": "code",
   "execution_count": null,
   "metadata": {},
   "outputs": [],
   "source": [
    "LABEL.vocab.stoi"
   ]
  }
 ],
 "metadata": {
  "kernelspec": {
   "display_name": "Python 3",
   "language": "python",
   "name": "python3"
  },
  "language_info": {
   "codemirror_mode": {
    "name": "ipython",
    "version": 3
   },
   "file_extension": ".py",
   "mimetype": "text/x-python",
   "name": "python",
   "nbconvert_exporter": "python",
   "pygments_lexer": "ipython3",
   "version": "3.8.5"
  }
 },
 "nbformat": 4,
 "nbformat_minor": 4
}
